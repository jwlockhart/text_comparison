{
 "cells": [
  {
   "cell_type": "code",
   "execution_count": null,
   "metadata": {},
   "outputs": [],
   "source": [
    "import pandas as pd\n",
    "import networkx as nx\n",
    "import numpy as np\n",
    "from scipy.stats import ttest_rel\n",
    "import json\n",
    "import matplotlib.pyplot as plt\n",
    "%matplotlib inline"
   ]
  },
  {
   "cell_type": "code",
   "execution_count": null,
   "metadata": {},
   "outputs": [],
   "source": [
    "r = pd.read_csv('data/public/people_jaccard.tsv', sep='\\t')#, index_col=0)#(0,1))\n",
    "m = pd.read_csv('data/public/people_jaccard_ids.tsv', sep='\\t')\n",
    "\n",
    "attr = pd.read_csv('data/sensitive/coder1_all.tsv', sep='\\t')\n",
    "tmp = pd.read_csv('data/sensitive/coder2_all.tsv', sep='\\t')"
   ]
  },
  {
   "cell_type": "code",
   "execution_count": null,
   "metadata": {},
   "outputs": [],
   "source": [
    "print(attr.shape)\n",
    "attr = attr.append(tmp)\n",
    "print( attr.shape)"
   ]
  },
  {
   "cell_type": "code",
   "execution_count": null,
   "metadata": {},
   "outputs": [],
   "source": [
    "attr.columns.values"
   ]
  },
  {
   "cell_type": "code",
   "execution_count": null,
   "metadata": {},
   "outputs": [],
   "source": [
    "actor = ['cishet', 'sgm', 'school', 'culture', 'community']\n",
    "role = ['problem', 'solution', 'victim', 'helpless']\n",
    "combos = []\n",
    "\n",
    "for ac in actor:\n",
    "    for ro in role:\n",
    "        combos.append(ac+'_'+ro)\n",
    "        \n",
    "print(combos)"
   ]
  },
  {
   "cell_type": "code",
   "execution_count": null,
   "metadata": {},
   "outputs": [],
   "source": [
    "coded = attr[['uni', 'Participant'] + combos].groupby(['uni', 'Participant']).sum()\n",
    "coded.head()"
   ]
  },
  {
   "cell_type": "code",
   "execution_count": null,
   "metadata": {},
   "outputs": [],
   "source": [
    "coded.columns"
   ]
  },
  {
   "cell_type": "code",
   "execution_count": null,
   "metadata": {},
   "outputs": [],
   "source": [
    "def get_tags(row, possible):    \n",
    "    tags = ''\n",
    "    \n",
    "    for p in possible:\n",
    "        if row[p] > 0:\n",
    "            tags += p + ', '\n",
    "    \n",
    "    return tags\n",
    "\n",
    "coded['tags'] = coded.apply(get_tags, possible=combos, axis=1)\n",
    "\n",
    "for c in combos:\n",
    "    coded[c] = coded[c] > 0\n",
    "\n",
    "coded.head()"
   ]
  },
  {
   "cell_type": "code",
   "execution_count": null,
   "metadata": {},
   "outputs": [],
   "source": [
    "tmp = coded[combos].apply(sum, axis=1)\n",
    "tmp.hist(bins=13)"
   ]
  },
  {
   "cell_type": "code",
   "execution_count": null,
   "metadata": {},
   "outputs": [],
   "source": [
    "attr = attr.drop_duplicates(['uni', 'Participant'])"
   ]
  },
  {
   "cell_type": "code",
   "execution_count": null,
   "metadata": {},
   "outputs": [],
   "source": [
    "attr = attr[['uni', 'Participant', 'rank', 'identity',\n",
    "       'Q3-g', 'Q3-l', 'Q3-b', 'Q3-quest', 'Q3-ace', 'Q3-queer', 'Q4-gq',\n",
    "       'Q4-t', 'Q4-i', 'Q4-f', 'Q4-m']]\n",
    "attr.columns.values"
   ]
  },
  {
   "cell_type": "code",
   "execution_count": null,
   "metadata": {
    "scrolled": true
   },
   "outputs": [],
   "source": [
    "attr = attr.merge(m, how='left', on=['uni', 'Participant'])\n",
    "attr.head()"
   ]
  },
  {
   "cell_type": "code",
   "execution_count": null,
   "metadata": {},
   "outputs": [],
   "source": [
    "attr = attr.merge(coded, how='left', left_on=['uni', 'Participant'], right_index=True)\n",
    "attr.columns.values"
   ]
  },
  {
   "cell_type": "code",
   "execution_count": null,
   "metadata": {},
   "outputs": [],
   "source": [
    "attr.head()"
   ]
  },
  {
   "cell_type": "code",
   "execution_count": null,
   "metadata": {
    "scrolled": true
   },
   "outputs": [],
   "source": [
    "keep_cols = ['uid', 'uni', 'Participant', 'rank', 'identity', 'tags',\n",
    "             'Q3-g', 'Q3-l', 'Q3-b', 'Q3-quest', 'Q3-ace', 'Q3-queer', \n",
    "             'Q4-gq', 'Q4-t', 'Q4-i', 'Q4-m', 'Q4-f'] + combos\n",
    "\n",
    "attr = attr[keep_cols]\n",
    "attr.head()"
   ]
  },
  {
   "cell_type": "code",
   "execution_count": null,
   "metadata": {},
   "outputs": [],
   "source": [
    "attr = attr.replace(to_replace='likely-undergrad', value='undergrad')\n",
    "\n",
    "attr['rank'].value_counts()"
   ]
  },
  {
   "cell_type": "code",
   "execution_count": null,
   "metadata": {},
   "outputs": [],
   "source": [
    "def flatten_gender(row):\n",
    "    g = 'unknown'\n",
    "    if not pd.isnull(row['Q4-m']):\n",
    "        g = 'm'\n",
    "    elif not pd.isnull(row['Q4-f']):\n",
    "        g = 'f'\n",
    "    return g\n",
    "\n",
    "attr['gender'] = attr.apply(flatten_gender, axis=1)\n",
    "attr.gender.value_counts()"
   ]
  },
  {
   "cell_type": "code",
   "execution_count": null,
   "metadata": {},
   "outputs": [],
   "source": [
    "def flatten_cis(row):\n",
    "    g = 'unknown'\n",
    "    if not pd.isnull(row['Q4-t']):\n",
    "        g = 't'\n",
    "    elif not pd.isnull(row['Q4-gq']):\n",
    "        g = 't'\n",
    "    elif not pd.isnull(row['Q4-i']):\n",
    "        g = 't'\n",
    "    elif not pd.isnull(row['Q4-m']):\n",
    "        g = 'c'\n",
    "    elif not pd.isnull(row['Q4-f']):\n",
    "        g = 'c'\n",
    "    return g\n",
    "\n",
    "attr['cis'] = attr.apply(flatten_cis, axis=1)\n",
    "attr.cis.value_counts()"
   ]
  },
  {
   "cell_type": "code",
   "execution_count": null,
   "metadata": {},
   "outputs": [],
   "source": [
    "def flatten_sexuality(row):\n",
    "    s = 'unknown'\n",
    "    if row['identity'] == 'cishet':\n",
    "        s = 'hetero'\n",
    "    elif not pd.isnull(row['Q3-queer']):\n",
    "        s = 'queer'\n",
    "    elif not pd.isnull(row['Q3-ace']):\n",
    "        s = 'ace'\n",
    "    elif not pd.isnull(row['Q3-b']):\n",
    "        s = 'bi'\n",
    "    elif not pd.isnull(row['Q3-g']):\n",
    "        s = 'gay'\n",
    "    elif not pd.isnull(row['Q3-l']):\n",
    "        s = 'lesbian'       \n",
    "    return s\n",
    "\n",
    "attr['sexuality'] = attr.apply(flatten_sexuality, axis=1)\n",
    "attr.sexuality.value_counts()"
   ]
  },
  {
   "cell_type": "code",
   "execution_count": null,
   "metadata": {},
   "outputs": [],
   "source": [
    "core = pd.read_csv('data/core_data.tsv', sep='\\t')\n",
    "core.columns.values"
   ]
  },
  {
   "cell_type": "code",
   "execution_count": null,
   "metadata": {},
   "outputs": [],
   "source": [
    "keep = {'Q6': 'Ever lived on campus', \n",
    "        'Q9': 'Are the people you spend time with sexual/gender minorities?',\n",
    "        'Q31': 'Have you ever lived in ___ housing?',\n",
    "        'Q34': 'Have you ever been involved with ___ athletics?',\n",
    "        'Q37': 'Have you ever been involved with non-athletic a student club or organization?',\n",
    "        'Q40': 'Have you been involved with any LGBT organizations or clubs (e.g. ___)?'\n",
    "       }\n",
    "\n",
    "core = core[ list(keep.keys()) + ['school', 'participant'] ]\n",
    "\n",
    "core.head()"
   ]
  },
  {
   "cell_type": "code",
   "execution_count": null,
   "metadata": {},
   "outputs": [],
   "source": [
    "core.Q37.value_counts()"
   ]
  },
  {
   "cell_type": "code",
   "execution_count": null,
   "metadata": {},
   "outputs": [],
   "source": [
    "def flatten_dorms(row):\n",
    "    d = 'unknown'\n",
    "    \n",
    "    if pd.notnull(row.Q31):\n",
    "        if 'Yes' in row.Q31:\n",
    "            return 'Yes'\n",
    "        else:\n",
    "            d = 'No'\n",
    "    if pd.notnull(row.Q6):\n",
    "        if 'Yes' in row.Q6:\n",
    "            return 'Yes'\n",
    "        else:\n",
    "            d = 'No'\n",
    "    \n",
    "    return d\n",
    "\n",
    "def stringify(t):\n",
    "    out = 'unknown'\n",
    "    t = str(t)\n",
    "    if 'Yes' in t:\n",
    "        out = 1\n",
    "    elif 'No' in t:\n",
    "        out = 0\n",
    "    return out\n",
    "\n",
    "core['dorms'] = core.apply(flatten_dorms, axis=1)\n",
    "core['Q40'] = core.Q40.apply(stringify)\n",
    "core['Q37'] = core.Q37.apply(stringify)\n",
    "\n",
    "core = core[['Q9', 'Q34', 'Q37', 'Q40', 'school', 'participant', 'dorms']]"
   ]
  },
  {
   "cell_type": "code",
   "execution_count": null,
   "metadata": {},
   "outputs": [],
   "source": [
    "attr = attr.merge(core, how='inner', \n",
    "                  left_on=['uni', 'Participant'], \n",
    "                  right_on=['school', 'participant'])\n",
    "\n",
    "attr=attr[['uid', 'uni', 'participant', 'rank', 'identity', 'tags', 'Q3-g', 'Q3-l', 'Q3-b',\n",
    "       'Q3-quest', 'Q3-ace', 'Q3-queer', 'Q4-gq', 'Q4-t', 'Q4-i', 'Q4-m',\n",
    "       'Q4-f', 'cishet_problem', 'cishet_solution', 'cishet_victim',\n",
    "       'cishet_helpless', 'sgm_problem', 'sgm_solution', 'sgm_victim',\n",
    "       'sgm_helpless', 'school_problem', 'school_solution', 'school_victim',\n",
    "       'school_helpless', 'culture_problem', 'culture_solution',\n",
    "       'culture_victim', 'culture_helpless', 'community_problem',\n",
    "       'community_solution', 'community_victim', 'community_helpless',\n",
    "       'gender', 'cis', 'sexuality', 'dorms', 'Q9', 'Q34', 'Q37', 'Q40']]\n",
    "       \n",
    "\n",
    "attr.head()"
   ]
  },
  {
   "cell_type": "code",
   "execution_count": null,
   "metadata": {},
   "outputs": [],
   "source": [
    "frames = {'queer_critic': ['culture_problem', 'community_victim'],\n",
    "          'bad_apple': ['sgm_victim', 'cishet_problem', 'cishet_victim', \n",
    "                        'community_victim', 'cishet_solution'],\n",
    "          'school_pessimism': ['school_problem', 'school_helpless', 'sgm_helpless'],\n",
    "          'homonegativity': ['sgm_problem', 'community_helpless', 'community_problem', \n",
    "                             'sgm_victim']\n",
    "         }\n",
    "\n",
    "def is_frame(row, codes, thresh):\n",
    "    match = False\n",
    "    count = 0\n",
    "    \n",
    "    for c in codes:\n",
    "        if row[c]:\n",
    "            count += 1\n",
    "            \n",
    "    if count >= thresh:\n",
    "        match = True\n",
    "    \n",
    "    return match\n",
    "\n",
    "def ba(row):\n",
    "    match = False\n",
    "    \n",
    "    if row.cishet_problem:\n",
    "        if not (row.culture_problem or row.school_problem or row.community_problem):\n",
    "            match = True\n",
    "    \n",
    "    return match\n",
    "\n",
    "attr['q_crit'] = attr.apply(is_frame, codes=frames['queer_critic'], thresh=2, axis=1)\n",
    "attr['bad_apple'] = attr.apply(is_frame, codes=frames['bad_apple'], thresh=3, axis=1)\n",
    "attr['school_pess'] = attr.apply(is_frame, codes=frames['school_pessimism'], \n",
    "                                 thresh=2, axis=1)\n",
    "attr['homoneg'] = attr.apply(is_frame, codes=frames['homonegativity'], \n",
    "                                 thresh=2, axis=1)\n",
    "\n",
    "attr['bad_apple2'] = attr.apply(ba, axis=1)\n",
    "\n",
    "\n",
    "attr.bad_apple2.value_counts()"
   ]
  },
  {
   "cell_type": "code",
   "execution_count": null,
   "metadata": {},
   "outputs": [],
   "source": [
    "attr[combos].sum()"
   ]
  },
  {
   "cell_type": "code",
   "execution_count": null,
   "metadata": {},
   "outputs": [],
   "source": [
    "attr.shape"
   ]
  },
  {
   "cell_type": "code",
   "execution_count": null,
   "metadata": {},
   "outputs": [],
   "source": [
    "attr.to_csv('data/person_nets.tsv', sep='\\t', index=False)"
   ]
  },
  {
   "cell_type": "code",
   "execution_count": null,
   "metadata": {},
   "outputs": [],
   "source": [
    "attr[attr.homoneg | attr.bad_apple | attr.school_pess | attr.q_crit].shape"
   ]
  },
  {
   "cell_type": "code",
   "execution_count": null,
   "metadata": {},
   "outputs": [],
   "source": [
    "commas = attr.tags.apply(lambda x: x.count(','))\n",
    "commas.hist(bins=13)"
   ]
  },
  {
   "cell_type": "code",
   "execution_count": null,
   "metadata": {},
   "outputs": [],
   "source": [
    "commas[commas > 1].shape[0] / attr.shape[0]"
   ]
  },
  {
   "cell_type": "code",
   "execution_count": null,
   "metadata": {},
   "outputs": [],
   "source": [
    "def make_json_net(data, idx1='i', idx2='j', idx3='Jaccard', min_weight=0, \n",
    "                  attributes=None, codes=None):\n",
    "    nodes = []\n",
    "    links = []\n",
    "    bad = []\n",
    "        \n",
    "    local = data[data[idx3] >= min_weight]\n",
    "        \n",
    "    if attributes is not None:   \n",
    "        ids = set(local[idx1]).union(set(local[idx2]))\n",
    "        \n",
    "        for i in ids:\n",
    "            row = attributes[attributes['uid'] == i]\n",
    "            if row.shape[0] != 1:\n",
    "                bad.append(i)\n",
    "                continue\n",
    "                \n",
    "            tmp = {\"id\":i, \n",
    "                   \"uni\":row['uni'].values[0],\n",
    "                   \"identity\":row['identity'].values[0],\n",
    "                   \"rank\":row['rank'].values[0], \n",
    "                   \"gender\":row['gender'].values[0],\n",
    "                   \"sexuality\":row['sexuality'].values[0],\n",
    "                   \"tags\":'id:' + str(i) + ', ' + row['tags'].values[0],\n",
    "                   \"dorms\":row['dorms'].values[0],\n",
    "                   \"sgm_club\":row['Q40'].values[0],\n",
    "                   \"club\":row['Q37'].values[0]\n",
    "                  }\n",
    "            \n",
    "            if codes is not None:\n",
    "                for c in codes:\n",
    "                    tmp[c] = row[c].values[0]\n",
    "            \n",
    "            nodes.append(tmp)\n",
    "            \n",
    "        for b in bad:\n",
    "            ids.discard(b)\n",
    "        \n",
    "    for row in local.iterrows():\n",
    "        w = row[1][idx3]\n",
    "        \n",
    "        s = int(row[1][idx1])\n",
    "        t = int(row[1][idx2])\n",
    "        \n",
    "        if (s in ids) & (t in ids):\n",
    "            tmp = {\"source\":s, \n",
    "                   \"target\":t#, \n",
    "                   #\"weight\":w\n",
    "                  }\n",
    "            links.append(tmp)\n",
    "    \n",
    "    return {\"nodes\": nodes, \"links\": links}\n",
    "\n",
    "js = make_json_net(r, attributes=attr, min_weight=.70, codes=combos)"
   ]
  },
  {
   "cell_type": "code",
   "execution_count": null,
   "metadata": {},
   "outputs": [],
   "source": [
    "#dammit json and numpy not playing nice together\n",
    "class MyEncoder(json.JSONEncoder):\n",
    "    def default(self, obj):\n",
    "        if isinstance(obj, np.integer):\n",
    "            return int(obj)\n",
    "        elif isinstance(obj, np.floating):\n",
    "            return float(obj)\n",
    "        elif isinstance(obj, np.ndarray):\n",
    "            return obj.tolist()\n",
    "        elif isinstance(obj, np.bool_):\n",
    "            return int(obj)\n",
    "        else:\n",
    "            return super(MyEncoder, self).default(obj)\n",
    "\n",
    "        \n",
    "with open('data/public/readme.json', 'w') as outf:\n",
    "    json.dump(js, outf, indent=2, cls=MyEncoder)\n",
    "    "
   ]
  },
  {
   "cell_type": "code",
   "execution_count": null,
   "metadata": {},
   "outputs": [],
   "source": []
  },
  {
   "cell_type": "code",
   "execution_count": null,
   "metadata": {},
   "outputs": [],
   "source": []
  },
  {
   "cell_type": "code",
   "execution_count": null,
   "metadata": {},
   "outputs": [],
   "source": []
  },
  {
   "cell_type": "code",
   "execution_count": null,
   "metadata": {},
   "outputs": [],
   "source": []
  },
  {
   "cell_type": "code",
   "execution_count": null,
   "metadata": {},
   "outputs": [],
   "source": []
  }
 ],
 "metadata": {
  "anaconda-cloud": {},
  "kernelspec": {
   "display_name": "Python 3",
   "language": "python",
   "name": "python3"
  },
  "language_info": {
   "codemirror_mode": {
    "name": "ipython",
    "version": 3
   },
   "file_extension": ".py",
   "mimetype": "text/x-python",
   "name": "python",
   "nbconvert_exporter": "python",
   "pygments_lexer": "ipython3",
   "version": "3.6.3"
  }
 },
 "nbformat": 4,
 "nbformat_minor": 1
}
