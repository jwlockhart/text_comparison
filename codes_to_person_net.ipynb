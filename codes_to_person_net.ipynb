{
 "cells": [
  {
   "cell_type": "code",
   "execution_count": null,
   "metadata": {},
   "outputs": [],
   "source": [
    "import pandas as pd\n",
    "import ipyparallel\n",
    "import networkx as nx\n",
    "import matplotlib.pyplot as plt\n",
    "%matplotlib inline\n",
    "\n",
    "c = ipyparallel.Client()\n",
    "view = c.load_balanced_view()"
   ]
  },
  {
   "cell_type": "code",
   "execution_count": null,
   "metadata": {},
   "outputs": [],
   "source": [
    "print('Loading, indexing, and grouping data...')\n",
    "#read in all coded data\n",
    "answers = pd.read_csv('data/merged_relevant.tsv', sep='\\t')\n",
    "#set indices\n",
    "answers = answers.set_index(['uni', 'Participant', 'Start'])\n",
    "#group codes at the person level\n",
    "people = answers.groupby(level=['uni', 'Participant']).any()\n",
    "\n",
    "print(answers.shape)\n",
    "print(people.shape)"
   ]
  },
  {
   "cell_type": "code",
   "execution_count": null,
   "metadata": {},
   "outputs": [],
   "source": [
    "def list_people_data(df):\n",
    "    '''Generates a list of input to be mapped to parallel_jaccard().'''\n",
    "    #add a unique ID column\n",
    "    n = len(df)\n",
    "    idx = range(0, n)\n",
    "    df['uid'] = idx\n",
    "    id_map = df[['uid']]\n",
    "    df = df.set_index(['uid'])\n",
    "    #transpose data frame for easier indexing\n",
    "    data = df.transpose()\n",
    "    result = []\n",
    "    #create a list of jobs where each job is an element and a\n",
    "    #set of other elements to compare it with.\n",
    "    for i in range(0, n):\n",
    "        dic = {'i':i, 'dat':data.iloc[:,0:i+1]}\n",
    "        result.append(dic)\n",
    "            \n",
    "    return (id_map, result)\n",
    "\n",
    "def parallel_jaccard(dic):\n",
    "    '''Map function to be used in parallel computation of \n",
    "    all v all jaccard similarity. Individual pairwise comparisons\n",
    "    proved to be too small of jobs for decent parallel computation.\n",
    "    Thus, each job compares one element i to all other elements \n",
    "    in range(0, i).\n",
    "    For space efficiency, a dictionary of non-zero scores is returned\n",
    "    instead of an adjacency matrix.\n",
    "    '''\n",
    "    #what column to use as our reference\n",
    "    i = dic['i']\n",
    "    #our data\n",
    "    data = dic['dat']\n",
    "    a = data[i]\n",
    "    #the number of codes we're comparing across columns\n",
    "    codes = data.shape[0]\n",
    "\n",
    "    output = {}\n",
    "    \n",
    "    #loop over all the columns we need to compare\n",
    "    for k in range(0, i):\n",
    "        #temp variables\n",
    "        union = 0.0\n",
    "        intersection = 0.0\n",
    "        b = data[k]\n",
    "        #loop over the codes to compare in these cols\n",
    "        for j in range(0, codes):\n",
    "            #if at least one has a code\n",
    "            if a[j] | b[j]:\n",
    "                intersection = intersection + 1\n",
    "                #if both have the code\n",
    "                if a[j] & b[j]:\n",
    "                    union = union + 1\n",
    "        #only save scores > 0\n",
    "        if (intersection > 0) & (union > 0):\n",
    "            output[k] = (union / intersection) \n",
    "            \n",
    "    return {'i':i, 'Jaccard':output}"
   ]
  },
  {
   "cell_type": "code",
   "execution_count": null,
   "metadata": {},
   "outputs": [],
   "source": [
    "(id_map, result) = list_people_data(people)\n",
    "#result[2]['dat']\n",
    "m = id_map.reset_index()\n",
    "m.head()"
   ]
  },
  {
   "cell_type": "code",
   "execution_count": null,
   "metadata": {},
   "outputs": [],
   "source": [
    "output = view.map_async(parallel_jaccard, result)\n",
    "output.wait_interactive()"
   ]
  },
  {
   "cell_type": "code",
   "execution_count": null,
   "metadata": {},
   "outputs": [],
   "source": [
    "output[5]"
   ]
  },
  {
   "cell_type": "code",
   "execution_count": null,
   "metadata": {},
   "outputs": [],
   "source": [
    "print('Stitching results together...')\n",
    "r = []\n",
    "for o in output:\n",
    "    r.append(pd.DataFrame.from_dict(o))\n",
    "r = pd.concat(r)\n",
    "\n",
    "#now make things pretty for saving\n",
    "r['j'] = r.index\n",
    "#tmp = tmp[['i','j','Jaccard']]\n",
    "r.tail(10)"
   ]
  },
  {
   "cell_type": "code",
   "execution_count": null,
   "metadata": {},
   "outputs": [],
   "source": [
    "r.to_csv('data/people_jaccard.tsv', sep='\\t', index=False)\n",
    "m.to_csv('data/people_jaccard_ids.tsv', sep='\\t', index=False)"
   ]
  },
  {
   "cell_type": "code",
   "execution_count": null,
   "metadata": {},
   "outputs": [],
   "source": []
  }
 ],
 "metadata": {
  "kernelspec": {
   "display_name": "Python 3",
   "language": "python",
   "name": "python3"
  },
  "language_info": {
   "codemirror_mode": {
    "name": "ipython",
    "version": 3
   },
   "file_extension": ".py",
   "mimetype": "text/x-python",
   "name": "python",
   "nbconvert_exporter": "python",
   "pygments_lexer": "ipython3",
   "version": "3.6.3"
  }
 },
 "nbformat": 4,
 "nbformat_minor": 1
}
