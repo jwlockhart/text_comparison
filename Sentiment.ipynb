{
 "cells": [
  {
   "cell_type": "code",
   "execution_count": null,
   "metadata": {},
   "outputs": [],
   "source": [
    "import pandas as pd\n",
    "import numpy\n",
    "import re\n",
    "import subprocess\n",
    "import os\n",
    "import ipyparallel"
   ]
  },
  {
   "cell_type": "code",
   "execution_count": null,
   "metadata": {},
   "outputs": [],
   "source": [
    "data = pd.read_csv('data/sensitive/coder1_all.tsv', sep='\\t')\n",
    "data = data[['uni', 'Participant', 'Start', 'Excerpt Copy']]"
   ]
  },
  {
   "cell_type": "code",
   "execution_count": null,
   "metadata": {},
   "outputs": [],
   "source": [
    "data.columns.values"
   ]
  },
  {
   "cell_type": "code",
   "execution_count": null,
   "metadata": {},
   "outputs": [],
   "source": [
    "data.head()"
   ]
  },
  {
   "cell_type": "code",
   "execution_count": null,
   "metadata": {},
   "outputs": [],
   "source": [
    "def get_q(txt):\n",
    "    q = ''\n",
    "    m = re.search('Question: (.+?);', txt)\n",
    "    if m:\n",
    "        q = m.group(1)\n",
    "    return q\n",
    "\n",
    "def get_txt(txt):\n",
    "    t = ''\n",
    "    p = re.compile('Answer: (.+)', re.MULTILINE)\n",
    "    m = re.search(p, txt)\n",
    "    if m:\n",
    "        t = m.group(1)\n",
    "    return str(t)\n",
    "\n",
    "data['Question'] = data['Excerpt Copy'].apply(get_q)\n",
    "data['Answer'] = data['Excerpt Copy'].apply(get_txt)\n",
    "\n",
    "data = data[['uni', 'Participant', 'Start', 'Question', 'Answer']]\n",
    "data.head()"
   ]
  },
  {
   "cell_type": "code",
   "execution_count": null,
   "metadata": {},
   "outputs": [],
   "source": [
    "\n"
   ]
  },
  {
   "cell_type": "code",
   "execution_count": null,
   "metadata": {},
   "outputs": [],
   "source": [
    "#data = pd.read_csv('data/just_answers.tsv', sep='\\t')"
   ]
  },
  {
   "cell_type": "code",
   "execution_count": null,
   "metadata": {},
   "outputs": [],
   "source": [
    "data['tmp'] = data.Answer.apply(type)\n",
    "data.tmp.value_counts()"
   ]
  },
  {
   "cell_type": "code",
   "execution_count": null,
   "metadata": {},
   "outputs": [],
   "source": [
    "data = data.head(20)\n",
    "\n",
    "#print out each comment into its own file.\n",
    "j = 0\n",
    "n = len(data)\n",
    "for (i, d) in data.iterrows():\n",
    "    with open('data/sensitive/sentiment/' +d.uni+'_'+str(d.Participant)+'_'+str(d.Start)+'_.txt','w') as out:\n",
    "        out.write(d.Answer)\n",
    "    j += 1\n",
    "    \n",
    "    if j % 1000 == 0:\n",
    "        print(j, 'of', n)\n",
    "print('Done!')"
   ]
  },
  {
   "cell_type": "code",
   "execution_count": null,
   "metadata": {},
   "outputs": [],
   "source": [
    "print('Creating cluster client and view...')\n",
    "c = ipyparallel.Client()\n",
    "c[:].apply_sync(os.chdir, os.getcwd())\n",
    "view = c.load_balanced_view()"
   ]
  },
  {
   "cell_type": "code",
   "execution_count": null,
   "metadata": {},
   "outputs": [],
   "source": [
    "def ippRunSentiment(fname):\n",
    "    import subprocess\n",
    "    from numpy import mean\n",
    "    from numpy import std\n",
    "    \n",
    "    #Stanford sentiment gives text ratings, we want numeric ratings\n",
    "    points = {'very negative' : -3, 'negative' : -1, 'neutral' : 0,\n",
    "              'positive' : 1, 'very positive' : 3}\n",
    "    \n",
    "    classPath = '-cp \"/home/jwlock/research/workspace/stanford-corenlp-full-2015-12-09/*\"'\n",
    "    settings = ' -mx5g edu.stanford.nlp.sentiment.SentimentPipeline'\n",
    "    inputFile = ' -file data/sentiment/' + fname\n",
    "    outputFile = ' > ' + fname + '_result.txt'\n",
    "    command = 'java ' + classPath +  settings + inputFile #+ outputFile\n",
    "\n",
    "    child = subprocess.Popen(command, shell=True, stdout=subprocess.PIPE)\n",
    "    out, err = child.communicate()\n",
    "\n",
    "    #divide results by line\n",
    "    scores = out.split('\\n')[1:]\n",
    "    values = []\n",
    "\n",
    "    for score in scores:\n",
    "        try:\n",
    "            #if this line is in our scores dict\n",
    "            values.append(points[score.strip().lower()])\n",
    "        except KeyError:        \n",
    "            continue\n",
    "\n",
    "    #return summary stats            \n",
    "    return {'name': fname, \n",
    "            'mean': mean(values), \n",
    "            'sd': std(values), \n",
    "            'n': len(values),  \n",
    "            'raw': out\n",
    "           }\n",
    "\n",
    "            \n",
    "dataDir = 'data/sensitive/sentiment'\n",
    "print('Listing answers...')\n",
    "documents = [fname for fname in os.listdir(dataDir) if '.txt' in fname]\n",
    "\n",
    "print('Starting parallel sentiment analysis...')\n",
    "results = view.map_async(ippRunSentiment, documents)\n",
    "results.wait_interactive()"
   ]
  },
  {
   "cell_type": "code",
   "execution_count": null,
   "metadata": {},
   "outputs": [],
   "source": [
    "print('Analysis complete! Packaging as DataFrame...')\n",
    "r = pd.DataFrame.from_records(results)"
   ]
  },
  {
   "cell_type": "code",
   "execution_count": null,
   "metadata": {},
   "outputs": [],
   "source": []
  },
  {
   "cell_type": "code",
   "execution_count": null,
   "metadata": {},
   "outputs": [],
   "source": []
  },
  {
   "cell_type": "code",
   "execution_count": null,
   "metadata": {},
   "outputs": [],
   "source": [
    "r['uni'] = r.name.str.split('_').str.get(0)\n",
    "r['Participant'] = r.name.str.split('_').str.get(1)\n",
    "r['Start'] = r.name.str.split('_').str.get(2)\n",
    "r = r[['uni', 'Participant', 'Start', 'mean', 'sd', 'n', 'raw']]\n",
    "\n",
    "r.to_csv('data/public/sentiment_scores.tsv', sep='\\t', index=False)\n",
    "r.head()"
   ]
  },
  {
   "cell_type": "code",
   "execution_count": null,
   "metadata": {},
   "outputs": [],
   "source": []
  },
  {
   "cell_type": "code",
   "execution_count": null,
   "metadata": {},
   "outputs": [],
   "source": []
  },
  {
   "cell_type": "code",
   "execution_count": null,
   "metadata": {},
   "outputs": [],
   "source": []
  },
  {
   "cell_type": "code",
   "execution_count": null,
   "metadata": {},
   "outputs": [],
   "source": []
  },
  {
   "cell_type": "code",
   "execution_count": null,
   "metadata": {},
   "outputs": [],
   "source": []
  },
  {
   "cell_type": "code",
   "execution_count": null,
   "metadata": {},
   "outputs": [],
   "source": []
  }
 ],
 "metadata": {
  "kernelspec": {
   "display_name": "Python 3",
   "language": "python",
   "name": "python3"
  },
  "language_info": {
   "codemirror_mode": {
    "name": "ipython",
    "version": 3
   },
   "file_extension": ".py",
   "mimetype": "text/x-python",
   "name": "python",
   "nbconvert_exporter": "python",
   "pygments_lexer": "ipython3",
   "version": "3.6.3"
  }
 },
 "nbformat": 4,
 "nbformat_minor": 1
}
