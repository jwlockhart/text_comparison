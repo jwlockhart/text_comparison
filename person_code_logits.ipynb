{
 "cells": [
  {
   "cell_type": "markdown",
   "metadata": {},
   "source": [
    "# imports"
   ]
  },
  {
   "cell_type": "code",
   "execution_count": null,
   "metadata": {},
   "outputs": [],
   "source": [
    "import pandas as pd\n",
    "import statsmodels.api as sm\n",
    "import numpy as np\n",
    "from numpy.linalg import LinAlgError\n",
    "import fancyimpute as fi\n",
    "import matplotlib.pyplot as plt\n",
    "\n",
    "%matplotlib inline\n"
   ]
  },
  {
   "cell_type": "markdown",
   "metadata": {},
   "source": [
    "# read data"
   ]
  },
  {
   "cell_type": "code",
   "execution_count": null,
   "metadata": {},
   "outputs": [],
   "source": [
    "df = pd.read_csv('data/people_codes_covariates.tsv', sep='\\t')\n",
    "df.head()"
   ]
  },
  {
   "cell_type": "markdown",
   "metadata": {},
   "source": [
    "# cleanup data"
   ]
  },
  {
   "cell_type": "code",
   "execution_count": null,
   "metadata": {},
   "outputs": [],
   "source": [
    "df.rename(columns={'identity':'LGBTQ', \n",
    "                   'gender': 'male', \n",
    "                   'rank':'undergrad',\n",
    "                   'Q3-g': 'gay',\n",
    "                   'Q3-l': 'lesbian', \n",
    "                   'Q3-b': \"bisexual\",\n",
    "                   'Q3-quest': 'questioning', \n",
    "                   'Q3-queer': 'queer', \n",
    "                   'Q34': 'athletics', \n",
    "                   'Q37': 'clubs',\n",
    "                   'Q40': 'LGBTQ clubs'\n",
    "                  }, inplace=True)\n",
    "\n",
    "df.columns.values"
   ]
  },
  {
   "cell_type": "code",
   "execution_count": null,
   "metadata": {},
   "outputs": [],
   "source": [
    "dummies = {'undergrad': 'undergrad', \n",
    "           'male': 'm', \n",
    "           'cis': 'c', \n",
    "           'LGBTQ': 'sgm'}\n",
    "\n",
    "def make_dummies(text, positive):\n",
    "    result = 0\n",
    "    if pd.isnull(text):\n",
    "        result = np.nan\n",
    "    elif positive in text:\n",
    "        result = 1\n",
    "    return result\n",
    "\n",
    "for d in dummies.keys():\n",
    "    df[d] = df[d].apply(make_dummies, positive=dummies[d])\n",
    "    \n",
    "df.head()"
   ]
  },
  {
   "cell_type": "markdown",
   "metadata": {},
   "source": [
    "# create subsets"
   ]
  },
  {
   "cell_type": "code",
   "execution_count": null,
   "metadata": {},
   "outputs": [],
   "source": [
    "codes = df[['cishet_problem', 'cishet_solution', 'cishet_victim', 'sgm_solution', \n",
    "            'sgm_victim', 'sgm_helpless', 'school_problem', 'school_solution', \n",
    "            'school_helpless', 'culture_problem', 'culture_solution',  \n",
    "             'community_problem', 'community_solution', 'community_helpless']]\n",
    "           \n",
    "traits_binary = df[['undergrad', 'questioning',  \n",
    "                    'gay', 'lesbian', 'bisexual', 'queer',\n",
    "                    'male', 'cis', 'LGBTQ', 'dorms', 'athletics', \n",
    "                    'clubs', 'LGBTQ clubs']]\n",
    "\n",
    "traits_bin_complete = traits_binary[['undergrad', \n",
    "                                     #'gay', 'lesbian', 'bisexual', 'queer',\n",
    "                                     'questioning', 'male', 'cis', 'LGBTQ']].copy().dropna()"
   ]
  },
  {
   "cell_type": "code",
   "execution_count": null,
   "metadata": {},
   "outputs": [],
   "source": [
    "code_joins = ['school', 'community', 'culture', 'cishet', 'sgm',\n",
    "              'problem', 'solution', 'helpless', 'victim']\n",
    "\n",
    "all_codes = ['cishet_problem', 'cishet_solution', 'cishet_victim', \n",
    "             'cishet_helpless', 'sgm_problem', 'sgm_solution',\n",
    "             'sgm_victim', 'sgm_helpless', 'school_problem', \n",
    "             'school_solution', 'school_victim', 'school_helpless', \n",
    "             'culture_problem', 'culture_solution', 'culture_victim', \n",
    "             'culture_helpless', 'community_problem', \n",
    "             'community_solution', 'community_victim', 'community_helpless']\n",
    "\n",
    "def join_codes(row, code, cols):\n",
    "    out = False\n",
    "    for c in cols:\n",
    "        if code in c:\n",
    "            if row[c]:\n",
    "                out = True\n",
    "                break   \n",
    "    return out\n",
    "\n",
    "for c in code_joins:\n",
    "    codes[c] = df.apply(join_codes, code=c, cols=all_codes, axis=1)\n",
    "    \n",
    "codes.head()"
   ]
  },
  {
   "cell_type": "code",
   "execution_count": null,
   "metadata": {},
   "outputs": [],
   "source": [
    "uni = pd.get_dummies(df.uni)\n",
    "uni = uni.drop('fu', axis=1)\n",
    "traits_all = traits_binary.merge(uni, how='left', \n",
    "                                 left_index=True, right_index=True)\n",
    "\n",
    "def queerfriends(text):\n",
    "    out = 0\n",
    "    if pd.isnull(text):\n",
    "        out = np.nan\n",
    "    elif 'few' in text:\n",
    "        out = 0\n",
    "    elif 'some' in text:\n",
    "        out = .5\n",
    "    elif 'many' in text:\n",
    "        out = 1\n",
    "    return out\n",
    "\n",
    "traits_all['queer_friends'] = df.q_friends.apply(queerfriends)\n",
    "traits_all.head()"
   ]
  },
  {
   "cell_type": "code",
   "execution_count": null,
   "metadata": {},
   "outputs": [],
   "source": [
    "#drop people without identity info\n",
    "codes = codes.align(traits_bin_complete, join='right', axis=0)[0]\n",
    "traits_binary = traits_binary.align(traits_bin_complete, join='right', axis=0)[0]\n",
    "traits_all = traits_all.align(traits_bin_complete, join='right', axis=0)[0]\n",
    "\n",
    "traits_all.shape"
   ]
  },
  {
   "cell_type": "code",
   "execution_count": null,
   "metadata": {},
   "outputs": [],
   "source": [
    " traits_all.dropna().shape"
   ]
  },
  {
   "cell_type": "code",
   "execution_count": null,
   "metadata": {},
   "outputs": [],
   "source": [
    "traits_all.dropna(thresh=12).shape"
   ]
  },
  {
   "cell_type": "markdown",
   "metadata": {},
   "source": [
    "## imputation"
   ]
  },
  {
   "cell_type": "code",
   "execution_count": null,
   "metadata": {},
   "outputs": [],
   "source": [
    "imputed_bin = {}\n",
    "col = traits_all.columns\n",
    "row = traits_all.index\n",
    "\n",
    "x = fi.KNN(k=5, min_value=0, max_value=1).complete(traits_all)\n",
    "imputed_bin['kNN'] = pd.DataFrame(x, columns=col, index=row)\n",
    "\n",
    "x = fi.SoftImpute(min_value=0, max_value=1).complete(traits_all)\n",
    "imputed_bin['SoftImpute'] = pd.DataFrame(x, columns=col, index=row)\n",
    "\n",
    "x = fi.MICE(min_value=0, max_value=1).complete(traits_all.as_matrix())\n",
    "imputed_bin['MICE'] = pd.DataFrame(x, columns=col, index=row)\n",
    "\n",
    "x = fi.SimpleFill(min_value=0, max_value=1).complete(traits_all)\n",
    "imputed_bin['mean'] = pd.DataFrame(x, columns=col, index=row)\n",
    "\n",
    "imputed_bin['dropna'] = traits_all.dropna().copy()\n"
   ]
  },
  {
   "cell_type": "code",
   "execution_count": null,
   "metadata": {},
   "outputs": [],
   "source": [
    "results = {}\n",
    "x = sm.tools.tools.add_constant(traits_bin_complete)\n",
    "\n",
    "for c in codes.columns:\n",
    "    y = codes[c].align(x, join='right')[0]\n",
    "    logit = sm.Logit(y, x)\n",
    "    results[c] = logit.fit()\n",
    "    print(c, 'r^2=', results[c].prsquared)"
   ]
  },
  {
   "cell_type": "code",
   "execution_count": null,
   "metadata": {},
   "outputs": [],
   "source": [
    "p_sum = {}\n",
    "\n",
    "for r in results.keys():\n",
    "    tmp = {}\n",
    "    #tmp['p_vals'] = results[r].pvalues\n",
    "    #tmp['coeff'] = results[r].params\n",
    "    p_sum[r] = results[r].pvalues #= tmp\n",
    "    \n",
    "p_sum = pd.DataFrame.from_dict(p_sum, orient='index')\n",
    "p_sum.round(3)"
   ]
  },
  {
   "cell_type": "code",
   "execution_count": null,
   "metadata": {},
   "outputs": [],
   "source": [
    "rsq = {}\n",
    "for r in results.keys():\n",
    "    tmp = {}\n",
    "    tmp['prsq'] = results[r].prsquared\n",
    "    rsq[r] = tmp\n",
    "    \n",
    "rsq = pd.DataFrame.from_dict(rsq, orient='index').sort_values(by='prsq', ascending=False)\n",
    "rsq.round(3)"
   ]
  },
  {
   "cell_type": "code",
   "execution_count": null,
   "metadata": {},
   "outputs": [],
   "source": [
    "results['sgm_solution'].summary()"
   ]
  },
  {
   "cell_type": "code",
   "execution_count": null,
   "metadata": {},
   "outputs": [],
   "source": [
    "results['sgm_victim'].summary()"
   ]
  },
  {
   "cell_type": "code",
   "execution_count": null,
   "metadata": {},
   "outputs": [],
   "source": [
    "results['cishet_victim'].summary()"
   ]
  },
  {
   "cell_type": "code",
   "execution_count": null,
   "metadata": {},
   "outputs": [],
   "source": [
    "results['sgm_helpless'].summary()"
   ]
  },
  {
   "cell_type": "code",
   "execution_count": null,
   "metadata": {},
   "outputs": [],
   "source": [
    "results = {}\n",
    "\n",
    "for k in imputed_bin:\n",
    "    inner = {}\n",
    "    x = imputed_bin[k]\n",
    "    x = sm.tools.tools.add_constant(x)\n",
    "\n",
    "    for c in codes.columns:\n",
    "        y = codes[c].align(x, join='right')[0]\n",
    "        try:\n",
    "            logit = sm.Logit(y, x)\n",
    "            inner[c] = logit.fit()\n",
    "        except LinAlgError:\n",
    "            print('Singular Matrix')\n",
    "            continue\n",
    "    results[k] = inner"
   ]
  },
  {
   "cell_type": "code",
   "execution_count": null,
   "metadata": {},
   "outputs": [],
   "source": [
    "rsq = {}\n",
    "for r in results.keys():\n",
    "    tmp = {}\n",
    "    for i in results[r].keys():\n",
    "        tmp[i] = results[r][i].prsquared\n",
    "    rsq[r] = tmp\n",
    "    \n",
    "rsq = pd.DataFrame.from_dict(rsq)"
   ]
  },
  {
   "cell_type": "code",
   "execution_count": null,
   "metadata": {},
   "outputs": [],
   "source": [
    "def find_winner(row, cols):\n",
    "    m = 0\n",
    "    w = ''\n",
    "    for c in cols:\n",
    "        if row[c] > m:\n",
    "            w = c\n",
    "            m = row[c]\n",
    "    \n",
    "    return w\n",
    "\n",
    "cols = rsq.columns\n",
    "\n",
    "rsq['best_impute_method'] = rsq.apply(find_winner, cols=cols, axis=1)\n",
    "rsq.sort_values(by=['kNN', 'MICE'], ascending=False).round(3)"
   ]
  },
  {
   "cell_type": "code",
   "execution_count": null,
   "metadata": {},
   "outputs": [],
   "source": [
    "r = results['kNN']\n",
    "r['cishet_victim'].summary()"
   ]
  },
  {
   "cell_type": "code",
   "execution_count": null,
   "metadata": {
    "scrolled": false
   },
   "outputs": [],
   "source": [
    "r['sgm_victim'].summary()"
   ]
  },
  {
   "cell_type": "code",
   "execution_count": null,
   "metadata": {},
   "outputs": [],
   "source": [
    "r['sgm_solution'].summary()"
   ]
  },
  {
   "cell_type": "code",
   "execution_count": null,
   "metadata": {},
   "outputs": [],
   "source": [
    "r['sgm_helpless'].summary()"
   ]
  },
  {
   "cell_type": "code",
   "execution_count": null,
   "metadata": {},
   "outputs": [],
   "source": [
    "r['school_problem'].summary()"
   ]
  },
  {
   "cell_type": "code",
   "execution_count": null,
   "metadata": {},
   "outputs": [],
   "source": [
    "r['culture_problem'].summary()"
   ]
  },
  {
   "cell_type": "code",
   "execution_count": null,
   "metadata": {},
   "outputs": [],
   "source": [
    "r['sgm'].summary()"
   ]
  },
  {
   "cell_type": "code",
   "execution_count": null,
   "metadata": {},
   "outputs": [],
   "source": [
    "r['community_solution'].summary()"
   ]
  },
  {
   "cell_type": "code",
   "execution_count": null,
   "metadata": {},
   "outputs": [],
   "source": [
    "r['community_helpless'].summary()"
   ]
  },
  {
   "cell_type": "code",
   "execution_count": null,
   "metadata": {},
   "outputs": [],
   "source": [
    "r['cishet_problem'].summary()"
   ]
  },
  {
   "cell_type": "code",
   "execution_count": null,
   "metadata": {},
   "outputs": [],
   "source": [
    "x = imputed_bin['kNN']\n",
    "x.columns.values"
   ]
  },
  {
   "cell_type": "code",
   "execution_count": null,
   "metadata": {},
   "outputs": [],
   "source": [
    "x.as_matrix()"
   ]
  },
  {
   "cell_type": "code",
   "execution_count": null,
   "metadata": {
    "scrolled": true
   },
   "outputs": [],
   "source": [
    "results2 = {}\n",
    "\n",
    "ys = ['undergrad', 'questioning', 'male', 'cis', 'LGBTQ', 'dorms',\n",
    "       'athletics', 'clubs', 'LGBTQ clubs', 'cwru', 'fsu', 'jcu', 'mcu',\n",
    "       'snc', 'uwg']\n",
    "\n",
    "x2 = codes.replace({True: 1, False:0})\n",
    "x2 = sm.tools.tools.add_constant(x2)\n",
    "\n",
    "for c in ys:\n",
    "    y = traits_all[c].dropna()\n",
    "    x = x2.align(y, join='right', axis=0)[0]\n",
    "    try:\n",
    "        logit = sm.Logit(y, x)\n",
    "        results2[c] = logit.fit()\n",
    "    except LinAlgError:\n",
    "        print('Singular Matrix')\n",
    "        continue"
   ]
  },
  {
   "cell_type": "code",
   "execution_count": null,
   "metadata": {},
   "outputs": [],
   "source": [
    "rsq = {}\n",
    "for r in results2.keys():\n",
    "    tmp = {}\n",
    "    tmp['prsq'] = results2[r].prsquared\n",
    "    rsq[r] = tmp\n",
    "    \n",
    "rsq = pd.DataFrame.from_dict(rsq, orient='index').sort_values(by='prsq', ascending=False)\n",
    "rsq.round(3)"
   ]
  },
  {
   "cell_type": "code",
   "execution_count": null,
   "metadata": {},
   "outputs": [],
   "source": [
    "results2['LGBTQ'].summary()"
   ]
  },
  {
   "cell_type": "code",
   "execution_count": null,
   "metadata": {},
   "outputs": [],
   "source": [
    "results2['cis'].summary()"
   ]
  },
  {
   "cell_type": "code",
   "execution_count": null,
   "metadata": {},
   "outputs": [],
   "source": []
  }
 ],
 "metadata": {
  "kernelspec": {
   "display_name": "Python 3",
   "language": "python",
   "name": "python3"
  },
  "language_info": {
   "codemirror_mode": {
    "name": "ipython",
    "version": 3
   },
   "file_extension": ".py",
   "mimetype": "text/x-python",
   "name": "python",
   "nbconvert_exporter": "python",
   "pygments_lexer": "ipython3",
   "version": "3.6.3"
  }
 },
 "nbformat": 4,
 "nbformat_minor": 2
}
