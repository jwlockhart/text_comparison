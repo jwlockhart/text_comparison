{
 "cells": [
  {
   "cell_type": "code",
   "execution_count": null,
   "metadata": {},
   "outputs": [],
   "source": [
    "import pandas as pd\n",
    "import sys\n",
    "import networkx as nx\n",
    "import nltk\n",
    "from sklearn.feature_extraction.text import TfidfVectorizer\n",
    "\n",
    "import matplotlib.pyplot as plt\n",
    "%matplotlib inline"
   ]
  },
  {
   "cell_type": "code",
   "execution_count": null,
   "metadata": {},
   "outputs": [],
   "source": [
    "text_col = 'Excerpt Copy'\n",
    "\n",
    "df = pd.read_csv('data/sensitive/coder1_all.tsv', sep='\\t')\n",
    "df = df[['uni', 'Participant', 'Excerpt Copy', 'rank', 'identity',\n",
    "       'Q3-g', 'Q3-l', 'Q3-b', 'Q3-quest', 'Q3-ace', 'Q3-queer', 'Q4-gq',\n",
    "       'Q4-t', 'Q4-i', 'Q4-f', 'Q4-m']]\n",
    "\n",
    "print(df.shape[0])\n",
    "\n",
    "df.head()"
   ]
  },
  {
   "cell_type": "code",
   "execution_count": null,
   "metadata": {},
   "outputs": [],
   "source": [
    "df = df.replace({'Question: Q\\d*\\w?; Answer:': ''}, regex=True)\n",
    "df = df.replace({'Question: Q\\d*-other; Answer:': ''}, regex=True)\n",
    "\n",
    "text = df[['uni', 'Participant', 'Excerpt Copy']].groupby(['uni', 'Participant'])\n",
    "text = text.agg(lambda t: \"{%s}\" % ' '.join(t))\n",
    "print(text.shape[0])\n",
    "text.head()"
   ]
  },
  {
   "cell_type": "code",
   "execution_count": null,
   "metadata": {},
   "outputs": [],
   "source": [
    "stemmer = nltk.stem.snowball.SnowballStemmer(\"english\") \n",
    "\n",
    "def normalize(text):\n",
    "    '''remove punctuation, lowercase, stem'''\n",
    "    clean = text.lower()\n",
    "    tokens = nltk.tokenize.regexp_tokenize(clean, '\\w+')\n",
    "    return [stemmer.stem(item) for item in tokens]\n",
    "\n",
    "text.reset_index(inplace=True)\n",
    "\n",
    "text.head()"
   ]
  },
  {
   "cell_type": "code",
   "execution_count": null,
   "metadata": {},
   "outputs": [],
   "source": [
    "vectorizor = TfidfVectorizer(tokenizer=normalize)"
   ]
  },
  {
   "cell_type": "code",
   "execution_count": null,
   "metadata": {},
   "outputs": [],
   "source": [
    "sample = text['Excerpt Copy'].values\n",
    "tfidf = vectorizor.fit_transform(sample)\n",
    "sims = (tfidf * tfidf.T).A\n",
    "sims"
   ]
  },
  {
   "cell_type": "code",
   "execution_count": null,
   "metadata": {},
   "outputs": [],
   "source": [
    "n = len(sims)\n",
    "edges = {'i': [], 'j': [], 'cosine_sim': []}\n",
    "\n",
    "for i in range(n):\n",
    "    for j in range(i+1, n):\n",
    "        edges['i'].append(i)\n",
    "        edges['j'].append(j)\n",
    "        edges['cosine_sim'].append(sims[i][j])\n",
    "        \n",
    "edges = pd.DataFrame(edges)\n",
    "edges.head()"
   ]
  },
  {
   "cell_type": "code",
   "execution_count": null,
   "metadata": {},
   "outputs": [],
   "source": [
    "edges.cosine_sim.hist(bins=20)"
   ]
  },
  {
   "cell_type": "code",
   "execution_count": null,
   "metadata": {},
   "outputs": [],
   "source": [
    "edges.to_csv('data/public/cosine_people.tsv', sep='\\t')\n",
    "text=text[['uni', 'Participant']]\n",
    "text.to_csv('data/public/cosine_people_ids.tsv', sep='\\t')"
   ]
  },
  {
   "cell_type": "code",
   "execution_count": null,
   "metadata": {},
   "outputs": [],
   "source": [
    "text.head()"
   ]
  },
  {
   "cell_type": "code",
   "execution_count": null,
   "metadata": {},
   "outputs": [],
   "source": []
  }
 ],
 "metadata": {
  "kernelspec": {
   "display_name": "Python 3",
   "language": "python",
   "name": "python3"
  },
  "language_info": {
   "codemirror_mode": {
    "name": "ipython",
    "version": 3
   },
   "file_extension": ".py",
   "mimetype": "text/x-python",
   "name": "python",
   "nbconvert_exporter": "python",
   "pygments_lexer": "ipython3",
   "version": "3.6.3"
  }
 },
 "nbformat": 4,
 "nbformat_minor": 2
}
