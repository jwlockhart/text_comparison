{
 "cells": [
  {
   "cell_type": "code",
   "execution_count": null,
   "metadata": {},
   "outputs": [],
   "source": [
    "import pandas as pd\n",
    "import networkx as nx\n",
    "import numpy as np\n",
    "from scipy.stats import ttest_rel\n",
    "from statsmodels.sandbox.stats.multicomp import multipletests\n",
    "import matplotlib.pyplot as plt\n",
    "%matplotlib inline\n",
    "\n",
    "import ipyparallel\n",
    "c = ipyparallel.Client()\n",
    "view = c.load_balanced_view()"
   ]
  },
  {
   "cell_type": "code",
   "execution_count": null,
   "metadata": {},
   "outputs": [],
   "source": [
    "edges = pd.read_csv('data/public/people_jaccard.tsv', sep='\\t')#, index_col=0)#(0,1))\n",
    "edges.head()"
   ]
  },
  {
   "cell_type": "code",
   "execution_count": null,
   "metadata": {},
   "outputs": [],
   "source": [
    "df = pd.read_csv('data/public/person_nets.tsv', sep='\\t')\n",
    "df.set_index('uid', drop=False, inplace=True)\n",
    "print(df.shape)\n",
    "df.head()"
   ]
  },
  {
   "cell_type": "code",
   "execution_count": null,
   "metadata": {},
   "outputs": [],
   "source": [
    "df = df.replace(to_replace='unknown', value=np.nan)\n",
    "df = df.replace(to_replace='Yes', value=1)\n",
    "df = df.replace(to_replace='No', value=0)\n",
    "df = df.replace(to_replace='yes', value=1)\n",
    "df = df.replace(to_replace='no', value=0)\n",
    "df.head()"
   ]
  },
  {
   "cell_type": "code",
   "execution_count": null,
   "metadata": {},
   "outputs": [],
   "source": [
    "def clean(row, col):\n",
    "    out = np.nan\n",
    "    if pd.notnull(row.identity):\n",
    "        if (pd.notnull(row[col])) & (row[col] != 0):\n",
    "            out = 1\n",
    "        else: \n",
    "            out = 0\n",
    "            \n",
    "    return out\n",
    "\n",
    "id_cols = ['Q3-g', 'Q3-l', 'Q3-b', 'Q3-quest', 'Q3-ace', 'Q3-queer', 'Q4-gq', 'Q4-t',\n",
    "           'Q4-i', 'Q4-m', 'Q4-f']\n",
    "\n",
    "for i in id_cols:\n",
    "    df[i] = df.apply(clean, col=i, axis=1)\n",
    "    \n",
    "df.head()"
   ]
  },
  {
   "cell_type": "code",
   "execution_count": null,
   "metadata": {},
   "outputs": [],
   "source": [
    "df.Q9.value_counts()"
   ]
  },
  {
   "cell_type": "code",
   "execution_count": null,
   "metadata": {},
   "outputs": [],
   "source": [
    "def friends(t):\n",
    "    out = np.nan\n",
    "    t = str(t)\n",
    "    if 'few' in t:\n",
    "        out = 'few'\n",
    "    elif 'None' in t:\n",
    "        out = 'few'\n",
    "    elif 'Some' in t:\n",
    "        out = 'some'\n",
    "    elif 'Many' in t:\n",
    "        out = 'many'\n",
    "    elif 'Most' in t:\n",
    "        out = 'many'\n",
    "    elif 'All' in t:\n",
    "        out = 'many'\n",
    "    \n",
    "    return out\n",
    "\n",
    "df['q_friends'] = df['Q9'].apply(friends)"
   ]
  },
  {
   "cell_type": "code",
   "execution_count": null,
   "metadata": {},
   "outputs": [],
   "source": [
    "homo_cols = ['uni', 'rank', 'identity', 'Q3-g', 'Q3-l', 'Q3-b', 'Q3-quest', \n",
    "             'Q3-ace', 'Q3-queer', 'Q4-gq', 'Q4-t', 'Q4-i', 'Q4-m', 'Q4-f', \n",
    "             'gender', 'cis', 'sexuality', 'dorms', 'q_friends', 'Q34', 'Q37', 'Q40']\n",
    "\n",
    "def make_net_list2(job): \n",
    "    data = job[0]\n",
    "    attributes = job[1]\n",
    "    min_weight = job[2]\n",
    "    homo_cols = job[3]\n",
    "    idx1='i'\n",
    "    idx2='j'\n",
    "    idx3=job[4]\n",
    "    \n",
    "    import networkx as nx\n",
    "    \n",
    "    g = nx.Graph()\n",
    "    bad = []\n",
    "        \n",
    "    if attributes is not None:   \n",
    "        ids = set(data[idx1]).union(set(data[idx2]))\n",
    "        \n",
    "        for i in ids:\n",
    "            row = attributes[attributes['uid'] == i]\n",
    "            \n",
    "            if row.shape[0] != 1:\n",
    "                bad.append(i)\n",
    "                continue\n",
    "                \n",
    "            g.add_node(i, row[homo_cols].to_dict(orient='index')[i])\n",
    "            \n",
    "        for b in bad:\n",
    "            ids.discard(b)\n",
    "            \n",
    "    for row in data.iterrows():\n",
    "        w = row[1][idx3]\n",
    "        if w > min_weight:\n",
    "            s = int(row[1][idx1])\n",
    "            t = int(row[1][idx2])\n",
    "            \n",
    "            if (s in ids) & (t in ids):\n",
    "                g.add_edge(s, t, weight = w)  \n",
    "    \n",
    "    g.remove_nodes_from(nx.isolates(g))\n",
    "    \n",
    "    return (min_weight, g, homo_cols)\n",
    "\n",
    "def get_homo(job):\n",
    "    s = job[0]\n",
    "    g = job[1]\n",
    "    cols = job[2]\n",
    "    dic = {}\n",
    "    \n",
    "    import pandas as pd\n",
    "    \n",
    "    def neighbor_homo(g, n, cat):\n",
    "        friends = g.neighbors(n)\n",
    "\n",
    "        val = g.node[n][cat]\n",
    "\n",
    "        x = 0.0\n",
    "        for f in friends:\n",
    "            if g.node[f][cat] == val:\n",
    "                x += 1\n",
    "\n",
    "        return x / len(friends)\n",
    "\n",
    "    for n in g.node:\n",
    "        if g.degree(n) > 0:\n",
    "            tmp = {}\n",
    "            tmp['uid'] = n\n",
    "            tmp['real_id'] = g.node[n]['identity']\n",
    "            tmp['real_cis'] = g.node[n]['cis']\n",
    "            tmp['real_gend'] = g.node[n]['gender']\n",
    "            for c in cols:\n",
    "                tmp[c] = neighbor_homo(g, n, c)\n",
    "\n",
    "            tmp['neighbors'] = g.degree(n)\n",
    "            dic[n] = tmp\n",
    "            \n",
    "    return (s, pd.DataFrame.from_dict(dic, orient='index'))\n",
    "\n",
    "#g = make_net_list(edges, min_weight=.75, attributes=df, homo_cols=homo_cols)"
   ]
  },
  {
   "cell_type": "code",
   "execution_count": null,
   "metadata": {
    "code_folding": [
     12
    ]
   },
   "outputs": [],
   "source": [
    "sims = np.arange(0, 1.05, 0.05)\n",
    "jobs = []\n",
    "nets = {}\n",
    "smaller = df[['uid', 'uni', 'participant', 'rank', 'identity', 'tags', 'Q3-g',\n",
    "       'Q3-l', 'Q3-b', 'Q3-quest', 'Q3-ace', 'Q3-queer', 'Q4-gq', 'Q4-t',\n",
    "       'Q4-i', 'Q4-m', 'Q4-f', 'gender', 'cis', 'sexuality', 'dorms', 'q_friends',\n",
    "       'Q34', 'Q37', 'Q40']]\n",
    "    \n",
    "for s in sims:\n",
    "    jobs.append((edges, smaller, s, homo_cols, 'Jaccard'))\n",
    "    \n",
    "output = view.map_async(make_net_list2, jobs)\n",
    "output.wait_interactive()"
   ]
  },
  {
   "cell_type": "code",
   "execution_count": null,
   "metadata": {
    "code_folding": []
   },
   "outputs": [],
   "source": [
    "jobs = []\n",
    "for o in output:\n",
    "    jobs.append(o)\n",
    "\n",
    "output2 = view.map_async(get_homo, jobs)\n",
    "output2.wait_interactive()"
   ]
  },
  {
   "cell_type": "code",
   "execution_count": null,
   "metadata": {
    "scrolled": true
   },
   "outputs": [],
   "source": [
    "del output\n",
    "del jobs\n",
    "\n",
    "results = dict(output2)"
   ]
  },
  {
   "cell_type": "code",
   "execution_count": null,
   "metadata": {},
   "outputs": [],
   "source": [
    "together = {}\n",
    "cishet = {}\n",
    "sgm = {}\n",
    "cis = {}\n",
    "trans = {}\n",
    "\n",
    "for k in results.keys():\n",
    "    tmp = results[k]\n",
    "    if tmp.shape[0] > 0:\n",
    "        together[k] = tmp.mean()\n",
    "        cishet[k] = tmp[tmp.real_id == 'cishet'].mean()\n",
    "        sgm[k] = tmp[tmp.real_id == 'sgm'].mean()\n",
    "        cis[k] = tmp[tmp.real_cis == 'c'].mean()\n",
    "        trans[k] = tmp[tmp.real_cis == 't'].mean()\n",
    "    \n",
    "tmp2 = pd.DataFrame.from_dict(together, orient='index')\n",
    "tmp2.columns.values"
   ]
  },
  {
   "cell_type": "code",
   "execution_count": null,
   "metadata": {},
   "outputs": [],
   "source": [
    "tmp2 = tmp2[['uni', 'rank', 'identity', 'Q3-g', 'Q3-l', 'Q3-b',\n",
    "       'Q3-quest', 'Q3-ace', 'Q3-queer', 'Q4-gq', 'Q4-t', 'Q4-i', 'Q4-m',\n",
    "       'Q4-f', 'gender', 'cis', 'sexuality', 'dorms', 'q_friends', 'Q34', 'Q37',\n",
    "       'Q40']]\n",
    "tmp2.plot(ylim=(0,1))"
   ]
  },
  {
   "cell_type": "code",
   "execution_count": null,
   "metadata": {},
   "outputs": [],
   "source": [
    "tmp2 = pd.DataFrame.from_dict(cishet, orient='index')\n",
    "tmp2 = tmp2[['sexuality', 'identity']]\n",
    "tmp2.plot(ylim=(0,1))"
   ]
  },
  {
   "cell_type": "code",
   "execution_count": null,
   "metadata": {},
   "outputs": [],
   "source": [
    "tmp2 = pd.DataFrame.from_dict(sgm, orient='index')\n",
    "tmp2 = tmp2[['sexuality', 'identity', 'gender', 'cis']]\n",
    "tmp2.plot(ylim=(0,1))"
   ]
  },
  {
   "cell_type": "code",
   "execution_count": null,
   "metadata": {},
   "outputs": [],
   "source": [
    "tmp2 = pd.DataFrame.from_dict(trans, orient='index')\n",
    "tmp2 = tmp2[['sexuality', 'identity', 'gender', 'cis']]\n",
    "tmp2.plot(ylim=(0,1))"
   ]
  },
  {
   "cell_type": "code",
   "execution_count": null,
   "metadata": {},
   "outputs": [],
   "source": [
    "merge = results[0].join(results[0.75], how='right', on='uid', rsuffix='75', lsuffix='0')\n",
    "\n",
    "cols = ['uni', 'rank', 'identity', 'Q3-g', 'Q3-l', 'Q3-b',\n",
    "       'Q3-quest', 'Q3-queer', 'Q4-m', 'Q4-f', 'gender', 'cis', \n",
    "        'sexuality', 'dorms', 'q_friends', 'Q34', 'Q37', 'Q40']\n",
    "\n",
    "tests = {}\n",
    "\n",
    "for c in cols:\n",
    "    tmp = {}\n",
    "    tmp['expected'] = merge[ c + '0' ].mean()\n",
    "    tmp['actual'] = merge[ c + '75'].mean()\n",
    "    tmp2 = ttest_rel(merge[ c + '0' ], merge[ c + '75'])\n",
    "    tmp['p_value'] = tmp2.pvalue\n",
    "    tests[c] = tmp\n",
    "    \n",
    "tests = pd.DataFrame.from_dict(tests, orient='index')"
   ]
  },
  {
   "cell_type": "code",
   "execution_count": null,
   "metadata": {},
   "outputs": [],
   "source": [
    "tests['adj_p'] = multipletests(pvals=tests['p_value'])[1]\n",
    "tests = tests.sort_values(by='p_value')\n",
    "all_tests = tests[['adj_p']].copy()\n",
    "all_tests.rename(columns={'adj_p':'codes'}, inplace=True)\n",
    "tests"
   ]
  },
  {
   "cell_type": "code",
   "execution_count": null,
   "metadata": {},
   "outputs": [],
   "source": [
    "tests[tests.adj_p < 0.01]['adj_p'].plot.barh(logx=True)"
   ]
  },
  {
   "cell_type": "code",
   "execution_count": null,
   "metadata": {},
   "outputs": [],
   "source": [
    "codebook = {'Q9': 'Are the people you spend time with sexual/gender minorities?',\n",
    "        'Q34': 'Have you ever been involved with ___ athletics?',\n",
    "        'Q37': 'Have you ever been involved with non-athletic a student club or organization?',\n",
    "        'Q40': 'Have you been involved with any LGBT organizations or clubs (e.g. ___)?'\n",
    "       }"
   ]
  },
  {
   "cell_type": "code",
   "execution_count": null,
   "metadata": {},
   "outputs": [],
   "source": [
    "tests.round(4)"
   ]
  },
  {
   "cell_type": "code",
   "execution_count": null,
   "metadata": {},
   "outputs": [],
   "source": [
    "cids = pd.read_csv('data/cosine_people_ids.tsv', sep='\\t', index_col=0)\n",
    "cedges = pd.read_csv('data/cosine_people.tsv', sep='\\t', index_col=0)\n",
    "cedges.head()"
   ]
  },
  {
   "cell_type": "code",
   "execution_count": null,
   "metadata": {},
   "outputs": [],
   "source": [
    "sims = np.arange(0, 1.05, 0.05)\n",
    "jobs = []\n",
    "nets = {}\n",
    "smaller = df[['uid', 'uni', 'participant', 'rank', 'identity', 'tags', 'Q3-g',\n",
    "       'Q3-l', 'Q3-b', 'Q3-quest', 'Q3-ace', 'Q3-queer', 'Q4-gq', 'Q4-t',\n",
    "       'Q4-i', 'Q4-m', 'Q4-f', 'gender', 'cis', 'sexuality', 'dorms', 'q_friends',\n",
    "       'Q34', 'Q37', 'Q40']]\n",
    "    \n",
    "for s in sims:\n",
    "    jobs.append((cedges, smaller, s, homo_cols, 'cosine_sim'))\n",
    "    \n",
    "output = view.map_async(make_net_list2, jobs)\n",
    "output.wait_interactive()"
   ]
  },
  {
   "cell_type": "code",
   "execution_count": null,
   "metadata": {},
   "outputs": [],
   "source": [
    "jobs = []\n",
    "for o in output:\n",
    "    jobs.append(o)\n",
    "\n",
    "output2 = view.map_async(get_homo, jobs)\n",
    "output2.wait_interactive()"
   ]
  },
  {
   "cell_type": "code",
   "execution_count": null,
   "metadata": {},
   "outputs": [],
   "source": [
    "del output\n",
    "del jobs\n",
    "\n",
    "results = dict(output2)\n",
    "\n",
    "together = {}\n",
    "cishet = {}\n",
    "sgm = {}\n",
    "cis = {}\n",
    "trans = {}\n",
    "\n",
    "for k in results.keys():\n",
    "    tmp = results[k]\n",
    "    if tmp.shape[0] > 0:\n",
    "        together[k] = tmp.mean()\n",
    "        cishet[k] = tmp[tmp.real_id == 'cishet'].mean()\n",
    "        sgm[k] = tmp[tmp.real_id == 'sgm'].mean()\n",
    "        cis[k] = tmp[tmp.real_cis == 'c'].mean()\n",
    "        trans[k] = tmp[tmp.real_cis == 't'].mean()\n",
    "    \n",
    "homo = pd.DataFrame.from_dict(together, orient='index')\n",
    "homo.columns.values"
   ]
  },
  {
   "cell_type": "code",
   "execution_count": null,
   "metadata": {},
   "outputs": [],
   "source": [
    "homo = homo[['uni', 'rank', 'identity', 'Q3-g', 'Q3-l', 'Q3-b',\n",
    "       'Q3-quest', 'Q3-ace', 'Q3-queer', 'Q4-gq', 'Q4-t', 'Q4-i', 'Q4-m',\n",
    "       'Q4-f', 'gender', 'cis', 'sexuality', 'dorms', 'q_friends', 'Q34', 'Q37',\n",
    "       'Q40']]\n",
    "homo.plot(ylim=(0,1))"
   ]
  },
  {
   "cell_type": "code",
   "execution_count": null,
   "metadata": {},
   "outputs": [],
   "source": [
    "tmp = homo[['identity', 'sexuality', 'uni', 'Q3-b', 'Q3-g', 'cis', 'Q3-queer',\n",
    "       'q_friends', 'dorms', 'Q40', 'Q37']]\n",
    "tmp.plot()"
   ]
  },
  {
   "cell_type": "code",
   "execution_count": null,
   "metadata": {},
   "outputs": [],
   "source": [
    "merge = results[0].join(results[0.2], how='right', on='uid', rsuffix='75', lsuffix='0')\n",
    "\n",
    "cols = ['uni', 'rank', 'identity', 'Q3-g', 'Q3-l', 'Q3-b',\n",
    "       'Q3-quest', 'Q3-queer', 'Q4-m', 'Q4-f', 'gender', 'cis', \n",
    "        'sexuality', 'dorms', 'q_friends', 'Q34', 'Q37', 'Q40']\n",
    "\n",
    "tests = {}\n",
    "\n",
    "for c in cols:\n",
    "    tmp = {}\n",
    "    tmp['expected'] = merge[ c + '0' ].mean()\n",
    "    tmp['actual'] = merge[ c + '75'].mean()\n",
    "    tmp2 = ttest_rel(merge[ c + '0' ], merge[ c + '75'])\n",
    "    tmp['p_value'] = tmp2.pvalue\n",
    "    tests[c] = tmp\n",
    "    \n",
    "tests = pd.DataFrame.from_dict(tests, orient='index')"
   ]
  },
  {
   "cell_type": "code",
   "execution_count": null,
   "metadata": {},
   "outputs": [],
   "source": [
    "tests['adj_p'] = multipletests(pvals=tests['p_value'])[1]\n",
    "tests = tests.sort_values(by='p_value')\n",
    "tmp = tests[['adj_p']].copy()\n",
    "tmp.rename(columns={'adj_p':'cosine'}, inplace=True)\n",
    "all_tests = all_tests.merge(tmp, how='outer', right_index=True, left_index=True)\n",
    "tests"
   ]
  },
  {
   "cell_type": "code",
   "execution_count": null,
   "metadata": {},
   "outputs": [],
   "source": [
    "tests[tests.adj_p < 0.01]['adj_p'].plot.barh(logx=True)"
   ]
  },
  {
   "cell_type": "code",
   "execution_count": null,
   "metadata": {},
   "outputs": [],
   "source": [
    "tests[tests.adj_p < 0.01].index.values"
   ]
  },
  {
   "cell_type": "code",
   "execution_count": null,
   "metadata": {},
   "outputs": [],
   "source": [
    "all_tests = all_tests.sort_values(by='codes')\n",
    "all_tests"
   ]
  },
  {
   "cell_type": "code",
   "execution_count": null,
   "metadata": {},
   "outputs": [],
   "source": [
    "all_tests.corr()"
   ]
  },
  {
   "cell_type": "code",
   "execution_count": null,
   "metadata": {},
   "outputs": [],
   "source": [
    "all_tests.plot.barh(xlim=(0,.01))#logx=True)"
   ]
  },
  {
   "cell_type": "code",
   "execution_count": null,
   "metadata": {},
   "outputs": [],
   "source": [
    "all_tests.plot.barh(logx=True)"
   ]
  },
  {
   "cell_type": "code",
   "execution_count": null,
   "metadata": {},
   "outputs": [],
   "source": [
    "def which(row):\n",
    "    out = 'neither'\n",
    "    thresh = 0.001\n",
    "    \n",
    "    if (row.codes < thresh) & (row.cosine < thresh):\n",
    "        out = 'both'\n",
    "    elif row.codes < thresh:\n",
    "        out = 'codes'\n",
    "    elif row.cosine < thresh:\n",
    "        out = 'cosine'\n",
    "    return out\n",
    "\n",
    "all_tests['which'] = all_tests.apply(which, axis=1)\n",
    "all_tests = all_tests.sort_values(by=['which', 'cosine'])\n",
    "all_tests.round(4)"
   ]
  },
  {
   "cell_type": "code",
   "execution_count": null,
   "metadata": {},
   "outputs": [],
   "source": [
    "all_tests.to_csv('data/public/person_sig_tests.tsv', sep='\\t')"
   ]
  },
  {
   "cell_type": "code",
   "execution_count": null,
   "metadata": {},
   "outputs": [],
   "source": []
  }
 ],
 "metadata": {
  "kernelspec": {
   "display_name": "Python 3",
   "language": "python",
   "name": "python3"
  },
  "language_info": {
   "codemirror_mode": {
    "name": "ipython",
    "version": 3
   },
   "file_extension": ".py",
   "mimetype": "text/x-python",
   "name": "python",
   "nbconvert_exporter": "python",
   "pygments_lexer": "ipython3",
   "version": "3.6.3"
  }
 },
 "nbformat": 4,
 "nbformat_minor": 2
}
